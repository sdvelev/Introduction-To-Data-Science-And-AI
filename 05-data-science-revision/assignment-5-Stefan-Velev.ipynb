{
 "cells": [
  {
   "metadata": {},
   "cell_type": "markdown",
   "source": [
    "## Assignment 5: Data Science Revision\n",
    "### Stefan Dimitrov Velev, 0MI3400521, Big Data Technologies\n",
    "### Faculty of Mathematics and Informatics, Sofia University"
   ],
   "id": "8945c1b825d94cec"
  },
  {
   "metadata": {},
   "cell_type": "markdown",
   "source": "### Task 1: In this question you will work with data sets from *Our World In Data* and Python to produce thoughtful analyses and interesting visualisations",
   "id": "ba9a4af59a8cb18b"
  },
  {
   "metadata": {},
   "cell_type": "markdown",
   "source": "#### 1. Import required Python packages",
   "id": "a429eb98799048d9"
  },
  {
   "metadata": {
    "ExecuteTime": {
     "end_time": "2024-12-26T09:44:36.274760Z",
     "start_time": "2024-12-26T09:44:36.266991Z"
    }
   },
   "cell_type": "code",
   "source": [
    "import pandas as pd\n",
    "import numpy as np\n",
    "import matplotlib.pyplot as plt"
   ],
   "id": "6f58ee9fc22894a5",
   "outputs": [],
   "execution_count": 83
  },
  {
   "metadata": {},
   "cell_type": "markdown",
   "source": "#### 2. Read the CSV files",
   "id": "c4832e123f5c12ec"
  },
  {
   "metadata": {},
   "cell_type": "markdown",
   "source": [
    "**2.1 Self-reported life satisfaction**\n",
    "\n",
    "*Data sources: World Happiness Report (2012-2024); Wellbeing Research Centre (2024); Population based on various sources (2023)*\n",
    "\n",
    "https://ourworldindata.org/grapher/happiness-cantril-ladder?time=latest"
   ],
   "id": "7592cf96be809b63"
  },
  {
   "metadata": {
    "ExecuteTime": {
     "end_time": "2024-12-26T09:44:36.318796Z",
     "start_time": "2024-12-26T09:44:36.308031Z"
    }
   },
   "cell_type": "code",
   "source": "df_life_satisfaction = pd.read_csv('./data/happiness-cantril-ladder.csv')",
   "id": "7e1488ada33a89f",
   "outputs": [],
   "execution_count": 84
  },
  {
   "metadata": {
    "ExecuteTime": {
     "end_time": "2024-12-26T09:44:36.351416Z",
     "start_time": "2024-12-26T09:44:36.336818Z"
    }
   },
   "cell_type": "code",
   "source": "df_life_satisfaction.head()",
   "id": "9ce2fddce6d05438",
   "outputs": [
    {
     "data": {
      "text/plain": [
       "        Entity Code  Year  Cantril ladder score\n",
       "0  Afghanistan  AFG  2011               4.25835\n",
       "1  Afghanistan  AFG  2014               3.57500\n",
       "2  Afghanistan  AFG  2015               3.36000\n",
       "3  Afghanistan  AFG  2016               3.79400\n",
       "4  Afghanistan  AFG  2017               3.63150"
      ],
      "text/html": [
       "<div>\n",
       "<style scoped>\n",
       "    .dataframe tbody tr th:only-of-type {\n",
       "        vertical-align: middle;\n",
       "    }\n",
       "\n",
       "    .dataframe tbody tr th {\n",
       "        vertical-align: top;\n",
       "    }\n",
       "\n",
       "    .dataframe thead th {\n",
       "        text-align: right;\n",
       "    }\n",
       "</style>\n",
       "<table border=\"1\" class=\"dataframe\">\n",
       "  <thead>\n",
       "    <tr style=\"text-align: right;\">\n",
       "      <th></th>\n",
       "      <th>Entity</th>\n",
       "      <th>Code</th>\n",
       "      <th>Year</th>\n",
       "      <th>Cantril ladder score</th>\n",
       "    </tr>\n",
       "  </thead>\n",
       "  <tbody>\n",
       "    <tr>\n",
       "      <th>0</th>\n",
       "      <td>Afghanistan</td>\n",
       "      <td>AFG</td>\n",
       "      <td>2011</td>\n",
       "      <td>4.25835</td>\n",
       "    </tr>\n",
       "    <tr>\n",
       "      <th>1</th>\n",
       "      <td>Afghanistan</td>\n",
       "      <td>AFG</td>\n",
       "      <td>2014</td>\n",
       "      <td>3.57500</td>\n",
       "    </tr>\n",
       "    <tr>\n",
       "      <th>2</th>\n",
       "      <td>Afghanistan</td>\n",
       "      <td>AFG</td>\n",
       "      <td>2015</td>\n",
       "      <td>3.36000</td>\n",
       "    </tr>\n",
       "    <tr>\n",
       "      <th>3</th>\n",
       "      <td>Afghanistan</td>\n",
       "      <td>AFG</td>\n",
       "      <td>2016</td>\n",
       "      <td>3.79400</td>\n",
       "    </tr>\n",
       "    <tr>\n",
       "      <th>4</th>\n",
       "      <td>Afghanistan</td>\n",
       "      <td>AFG</td>\n",
       "      <td>2017</td>\n",
       "      <td>3.63150</td>\n",
       "    </tr>\n",
       "  </tbody>\n",
       "</table>\n",
       "</div>"
      ]
     },
     "execution_count": 85,
     "metadata": {},
     "output_type": "execute_result"
    }
   ],
   "execution_count": 85
  },
  {
   "metadata": {
    "ExecuteTime": {
     "end_time": "2024-12-26T09:44:36.446473Z",
     "start_time": "2024-12-26T09:44:36.439462Z"
    }
   },
   "cell_type": "code",
   "source": "print(\"The number of rows in the life satisfaction data frame is:\", len(df_life_satisfaction))",
   "id": "8c63f25c6877a959",
   "outputs": [
    {
     "name": "stdout",
     "output_type": "stream",
     "text": [
      "The number of rows in the life satisfaction data frame is: 1787\n"
     ]
    }
   ],
   "execution_count": 86
  },
  {
   "metadata": {},
   "cell_type": "markdown",
   "source": [
    "**2.2 Share in extreme poverty vs. life expectancy**\n",
    "\n",
    "*Data sources: UN, World Population Prospects (2024); World Bank Poverty and Inequality Platform (2024); HYDE (2023); Gapminder - Population v7 (2022); Gapminder - Systema Globalis (2022)*\n",
    "\n",
    "https://ourworldindata.org/grapher/extreme-poverty-headcount-ratio-vs-life-expectancy-at-birth"
   ],
   "id": "6865a82515bc7304"
  },
  {
   "metadata": {
    "ExecuteTime": {
     "end_time": "2024-12-26T09:44:36.619121Z",
     "start_time": "2024-12-26T09:44:36.542692Z"
    }
   },
   "cell_type": "code",
   "source": "df_extreme_poverty_life_expectancy = pd.read_csv('./data/extreme-poverty-headcount-ratio-vs-life-expectancy-at-birth.csv')",
   "id": "f69e12fa2b5104ad",
   "outputs": [],
   "execution_count": 87
  },
  {
   "metadata": {
    "ExecuteTime": {
     "end_time": "2024-12-26T09:44:36.694449Z",
     "start_time": "2024-12-26T09:44:36.671146Z"
    }
   },
   "cell_type": "code",
   "source": "df_extreme_poverty_life_expectancy.head()",
   "id": "1a733a09f34004f1",
   "outputs": [
    {
     "data": {
      "text/plain": [
       "        Entity Code  Year  \\\n",
       "0  Afghanistan  AFG  1950   \n",
       "1  Afghanistan  AFG  1951   \n",
       "2  Afghanistan  AFG  1952   \n",
       "3  Afghanistan  AFG  1953   \n",
       "4  Afghanistan  AFG  1954   \n",
       "\n",
       "   Life expectancy - Sex: all - Age: 0 - Variant: estimates  \\\n",
       "0                                             28.156          \n",
       "1                                             28.584          \n",
       "2                                             29.014          \n",
       "3                                             29.452          \n",
       "4                                             29.698          \n",
       "\n",
       "   $2.15 a day - Share of population in poverty 990305-annotations  \\\n",
       "0                                           NaN                NaN   \n",
       "1                                           NaN                NaN   \n",
       "2                                           NaN                NaN   \n",
       "3                                           NaN                NaN   \n",
       "4                                           NaN                NaN   \n",
       "\n",
       "   Population (historical) World regions according to OWID  \n",
       "0                7776182.0                             NaN  \n",
       "1                7879343.0                             NaN  \n",
       "2                7987783.0                             NaN  \n",
       "3                8096703.0                             NaN  \n",
       "4                8207953.0                             NaN  "
      ],
      "text/html": [
       "<div>\n",
       "<style scoped>\n",
       "    .dataframe tbody tr th:only-of-type {\n",
       "        vertical-align: middle;\n",
       "    }\n",
       "\n",
       "    .dataframe tbody tr th {\n",
       "        vertical-align: top;\n",
       "    }\n",
       "\n",
       "    .dataframe thead th {\n",
       "        text-align: right;\n",
       "    }\n",
       "</style>\n",
       "<table border=\"1\" class=\"dataframe\">\n",
       "  <thead>\n",
       "    <tr style=\"text-align: right;\">\n",
       "      <th></th>\n",
       "      <th>Entity</th>\n",
       "      <th>Code</th>\n",
       "      <th>Year</th>\n",
       "      <th>Life expectancy - Sex: all - Age: 0 - Variant: estimates</th>\n",
       "      <th>$2.15 a day - Share of population in poverty</th>\n",
       "      <th>990305-annotations</th>\n",
       "      <th>Population (historical)</th>\n",
       "      <th>World regions according to OWID</th>\n",
       "    </tr>\n",
       "  </thead>\n",
       "  <tbody>\n",
       "    <tr>\n",
       "      <th>0</th>\n",
       "      <td>Afghanistan</td>\n",
       "      <td>AFG</td>\n",
       "      <td>1950</td>\n",
       "      <td>28.156</td>\n",
       "      <td>NaN</td>\n",
       "      <td>NaN</td>\n",
       "      <td>7776182.0</td>\n",
       "      <td>NaN</td>\n",
       "    </tr>\n",
       "    <tr>\n",
       "      <th>1</th>\n",
       "      <td>Afghanistan</td>\n",
       "      <td>AFG</td>\n",
       "      <td>1951</td>\n",
       "      <td>28.584</td>\n",
       "      <td>NaN</td>\n",
       "      <td>NaN</td>\n",
       "      <td>7879343.0</td>\n",
       "      <td>NaN</td>\n",
       "    </tr>\n",
       "    <tr>\n",
       "      <th>2</th>\n",
       "      <td>Afghanistan</td>\n",
       "      <td>AFG</td>\n",
       "      <td>1952</td>\n",
       "      <td>29.014</td>\n",
       "      <td>NaN</td>\n",
       "      <td>NaN</td>\n",
       "      <td>7987783.0</td>\n",
       "      <td>NaN</td>\n",
       "    </tr>\n",
       "    <tr>\n",
       "      <th>3</th>\n",
       "      <td>Afghanistan</td>\n",
       "      <td>AFG</td>\n",
       "      <td>1953</td>\n",
       "      <td>29.452</td>\n",
       "      <td>NaN</td>\n",
       "      <td>NaN</td>\n",
       "      <td>8096703.0</td>\n",
       "      <td>NaN</td>\n",
       "    </tr>\n",
       "    <tr>\n",
       "      <th>4</th>\n",
       "      <td>Afghanistan</td>\n",
       "      <td>AFG</td>\n",
       "      <td>1954</td>\n",
       "      <td>29.698</td>\n",
       "      <td>NaN</td>\n",
       "      <td>NaN</td>\n",
       "      <td>8207953.0</td>\n",
       "      <td>NaN</td>\n",
       "    </tr>\n",
       "  </tbody>\n",
       "</table>\n",
       "</div>"
      ]
     },
     "execution_count": 88,
     "metadata": {},
     "output_type": "execute_result"
    }
   ],
   "execution_count": 88
  },
  {
   "metadata": {
    "ExecuteTime": {
     "end_time": "2024-12-26T09:44:36.908837Z",
     "start_time": "2024-12-26T09:44:36.900516Z"
    }
   },
   "cell_type": "code",
   "source": "print(\"The number of rows in the extreme poverty vs. life expectancy data frame is:\", len(df_extreme_poverty_life_expectancy))",
   "id": "2f94abbe8681e750",
   "outputs": [
    {
     "name": "stdout",
     "output_type": "stream",
     "text": [
      "The number of rows in the extreme poverty vs. life expectancy data frame is: 60100\n"
     ]
    }
   ],
   "execution_count": 89
  },
  {
   "metadata": {},
   "cell_type": "markdown",
   "source": [
    "**2.3 Political corruption index**\n",
    "\n",
    "*Data source: V-Dem (2024)*\n",
    "\n",
    "https://ourworldindata.org/grapher/political-corruption-index"
   ],
   "id": "cba58da9d458f516"
  },
  {
   "metadata": {
    "ExecuteTime": {
     "end_time": "2024-12-26T09:44:37.056060Z",
     "start_time": "2024-12-26T09:44:37.024820Z"
    }
   },
   "cell_type": "code",
   "source": "df_political_corruption = pd.read_csv('./data/political-corruption-index.csv')",
   "id": "404bb9f99a22aa05",
   "outputs": [],
   "execution_count": 90
  },
  {
   "metadata": {
    "ExecuteTime": {
     "end_time": "2024-12-26T09:44:37.149740Z",
     "start_time": "2024-12-26T09:44:37.136076Z"
    }
   },
   "cell_type": "code",
   "source": "df_political_corruption.head()",
   "id": "3353a631a02646f1",
   "outputs": [
    {
     "data": {
      "text/plain": [
       "        Entity Code  Year  \\\n",
       "0  Afghanistan  AFG  1789   \n",
       "1  Afghanistan  AFG  1790   \n",
       "2  Afghanistan  AFG  1791   \n",
       "3  Afghanistan  AFG  1792   \n",
       "4  Afghanistan  AFG  1793   \n",
       "\n",
       "   Political corruption index (best estimate, aggregate: average)  \n",
       "0                                              0.438               \n",
       "1                                              0.438               \n",
       "2                                              0.438               \n",
       "3                                              0.438               \n",
       "4                                              0.438               "
      ],
      "text/html": [
       "<div>\n",
       "<style scoped>\n",
       "    .dataframe tbody tr th:only-of-type {\n",
       "        vertical-align: middle;\n",
       "    }\n",
       "\n",
       "    .dataframe tbody tr th {\n",
       "        vertical-align: top;\n",
       "    }\n",
       "\n",
       "    .dataframe thead th {\n",
       "        text-align: right;\n",
       "    }\n",
       "</style>\n",
       "<table border=\"1\" class=\"dataframe\">\n",
       "  <thead>\n",
       "    <tr style=\"text-align: right;\">\n",
       "      <th></th>\n",
       "      <th>Entity</th>\n",
       "      <th>Code</th>\n",
       "      <th>Year</th>\n",
       "      <th>Political corruption index (best estimate, aggregate: average)</th>\n",
       "    </tr>\n",
       "  </thead>\n",
       "  <tbody>\n",
       "    <tr>\n",
       "      <th>0</th>\n",
       "      <td>Afghanistan</td>\n",
       "      <td>AFG</td>\n",
       "      <td>1789</td>\n",
       "      <td>0.438</td>\n",
       "    </tr>\n",
       "    <tr>\n",
       "      <th>1</th>\n",
       "      <td>Afghanistan</td>\n",
       "      <td>AFG</td>\n",
       "      <td>1790</td>\n",
       "      <td>0.438</td>\n",
       "    </tr>\n",
       "    <tr>\n",
       "      <th>2</th>\n",
       "      <td>Afghanistan</td>\n",
       "      <td>AFG</td>\n",
       "      <td>1791</td>\n",
       "      <td>0.438</td>\n",
       "    </tr>\n",
       "    <tr>\n",
       "      <th>3</th>\n",
       "      <td>Afghanistan</td>\n",
       "      <td>AFG</td>\n",
       "      <td>1792</td>\n",
       "      <td>0.438</td>\n",
       "    </tr>\n",
       "    <tr>\n",
       "      <th>4</th>\n",
       "      <td>Afghanistan</td>\n",
       "      <td>AFG</td>\n",
       "      <td>1793</td>\n",
       "      <td>0.438</td>\n",
       "    </tr>\n",
       "  </tbody>\n",
       "</table>\n",
       "</div>"
      ]
     },
     "execution_count": 91,
     "metadata": {},
     "output_type": "execute_result"
    }
   ],
   "execution_count": 91
  },
  {
   "metadata": {
    "ExecuteTime": {
     "end_time": "2024-12-26T09:44:37.278760Z",
     "start_time": "2024-12-26T09:44:37.268675Z"
    }
   },
   "cell_type": "code",
   "source": "print(\"The number of rows in the political corruption data frame is:\", len(df_political_corruption))",
   "id": "f92aaa9391baa3df",
   "outputs": [
    {
     "name": "stdout",
     "output_type": "stream",
     "text": [
      "The number of rows in the political corruption data frame is: 33090\n"
     ]
    }
   ],
   "execution_count": 92
  },
  {
   "metadata": {},
   "cell_type": "markdown",
   "source": "#### 3. Data  Cleaning",
   "id": "fffe26bf5d6d70db"
  },
  {
   "metadata": {},
   "cell_type": "markdown",
   "source": "**3.1 Self-reported life satisfaction**",
   "id": "ace51309991cc513"
  },
  {
   "metadata": {
    "ExecuteTime": {
     "end_time": "2024-12-26T09:44:37.417607Z",
     "start_time": "2024-12-26T09:44:37.408843Z"
    }
   },
   "cell_type": "code",
   "source": [
    "# Remove the unnecessary columns in the data frame\n",
    "df_life_satisfaction = df_life_satisfaction[['Entity', 'Year', 'Cantril ladder score']]"
   ],
   "id": "849425f0d35cae07",
   "outputs": [],
   "execution_count": 93
  },
  {
   "metadata": {
    "ExecuteTime": {
     "end_time": "2024-12-26T09:44:37.482964Z",
     "start_time": "2024-12-26T09:44:37.475626Z"
    }
   },
   "cell_type": "code",
   "source": [
    "# Rename the applicable columns\n",
    "df_life_satisfaction = df_life_satisfaction.rename(columns={'Entity': 'Country'})"
   ],
   "id": "a59aacbbd5cc39b8",
   "outputs": [],
   "execution_count": 94
  },
  {
   "metadata": {
    "ExecuteTime": {
     "end_time": "2024-12-26T09:44:37.616728Z",
     "start_time": "2024-12-26T09:44:37.607815Z"
    }
   },
   "cell_type": "code",
   "source": [
    "# Leaving only rows for year 2021\n",
    "df_life_satisfaction = df_life_satisfaction[df_life_satisfaction['Year'] == 2021]"
   ],
   "id": "61865f91fff6a737",
   "outputs": [],
   "execution_count": 95
  },
  {
   "metadata": {
    "ExecuteTime": {
     "end_time": "2024-12-26T09:44:37.673311Z",
     "start_time": "2024-12-26T09:44:37.665630Z"
    }
   },
   "cell_type": "code",
   "source": [
    "# Remove rows with missing values\n",
    "df_life_satisfaction = df_life_satisfaction.dropna()"
   ],
   "id": "95f422be180aa20d",
   "outputs": [],
   "execution_count": 96
  },
  {
   "metadata": {
    "ExecuteTime": {
     "end_time": "2024-12-26T09:44:37.731209Z",
     "start_time": "2024-12-26T09:44:37.716463Z"
    }
   },
   "cell_type": "code",
   "source": "df_life_satisfaction",
   "id": "3a60f3082b0fffcd",
   "outputs": [
    {
     "data": {
      "text/plain": [
       "          Country  Year  Cantril ladder score\n",
       "8     Afghanistan  2021              2.403800\n",
       "19         Africa  2021              4.517288\n",
       "30        Albania  2021              5.198800\n",
       "41        Algeria  2021              5.122300\n",
       "57      Argentina  2021              5.967000\n",
       "...           ...   ...                   ...\n",
       "1741      Vietnam  2021              5.485000\n",
       "1752        World  2021              5.184147\n",
       "1763        Yemen  2021              4.196900\n",
       "1773       Zambia  2021              3.759800\n",
       "1784     Zimbabwe  2021              2.995100\n",
       "\n",
       "[157 rows x 3 columns]"
      ],
      "text/html": [
       "<div>\n",
       "<style scoped>\n",
       "    .dataframe tbody tr th:only-of-type {\n",
       "        vertical-align: middle;\n",
       "    }\n",
       "\n",
       "    .dataframe tbody tr th {\n",
       "        vertical-align: top;\n",
       "    }\n",
       "\n",
       "    .dataframe thead th {\n",
       "        text-align: right;\n",
       "    }\n",
       "</style>\n",
       "<table border=\"1\" class=\"dataframe\">\n",
       "  <thead>\n",
       "    <tr style=\"text-align: right;\">\n",
       "      <th></th>\n",
       "      <th>Country</th>\n",
       "      <th>Year</th>\n",
       "      <th>Cantril ladder score</th>\n",
       "    </tr>\n",
       "  </thead>\n",
       "  <tbody>\n",
       "    <tr>\n",
       "      <th>8</th>\n",
       "      <td>Afghanistan</td>\n",
       "      <td>2021</td>\n",
       "      <td>2.403800</td>\n",
       "    </tr>\n",
       "    <tr>\n",
       "      <th>19</th>\n",
       "      <td>Africa</td>\n",
       "      <td>2021</td>\n",
       "      <td>4.517288</td>\n",
       "    </tr>\n",
       "    <tr>\n",
       "      <th>30</th>\n",
       "      <td>Albania</td>\n",
       "      <td>2021</td>\n",
       "      <td>5.198800</td>\n",
       "    </tr>\n",
       "    <tr>\n",
       "      <th>41</th>\n",
       "      <td>Algeria</td>\n",
       "      <td>2021</td>\n",
       "      <td>5.122300</td>\n",
       "    </tr>\n",
       "    <tr>\n",
       "      <th>57</th>\n",
       "      <td>Argentina</td>\n",
       "      <td>2021</td>\n",
       "      <td>5.967000</td>\n",
       "    </tr>\n",
       "    <tr>\n",
       "      <th>...</th>\n",
       "      <td>...</td>\n",
       "      <td>...</td>\n",
       "      <td>...</td>\n",
       "    </tr>\n",
       "    <tr>\n",
       "      <th>1741</th>\n",
       "      <td>Vietnam</td>\n",
       "      <td>2021</td>\n",
       "      <td>5.485000</td>\n",
       "    </tr>\n",
       "    <tr>\n",
       "      <th>1752</th>\n",
       "      <td>World</td>\n",
       "      <td>2021</td>\n",
       "      <td>5.184147</td>\n",
       "    </tr>\n",
       "    <tr>\n",
       "      <th>1763</th>\n",
       "      <td>Yemen</td>\n",
       "      <td>2021</td>\n",
       "      <td>4.196900</td>\n",
       "    </tr>\n",
       "    <tr>\n",
       "      <th>1773</th>\n",
       "      <td>Zambia</td>\n",
       "      <td>2021</td>\n",
       "      <td>3.759800</td>\n",
       "    </tr>\n",
       "    <tr>\n",
       "      <th>1784</th>\n",
       "      <td>Zimbabwe</td>\n",
       "      <td>2021</td>\n",
       "      <td>2.995100</td>\n",
       "    </tr>\n",
       "  </tbody>\n",
       "</table>\n",
       "<p>157 rows × 3 columns</p>\n",
       "</div>"
      ]
     },
     "execution_count": 97,
     "metadata": {},
     "output_type": "execute_result"
    }
   ],
   "execution_count": 97
  },
  {
   "metadata": {
    "ExecuteTime": {
     "end_time": "2024-12-26T09:44:37.846110Z",
     "start_time": "2024-12-26T09:44:37.831494Z"
    }
   },
   "cell_type": "code",
   "source": [
    "# Remove not-country-specific entries\n",
    "df_life_satisfaction = df_life_satisfaction[df_life_satisfaction['Country'] != 'High-income countries']\n",
    "df_life_satisfaction = df_life_satisfaction[df_life_satisfaction['Country'] != 'Low-income countries']\n",
    "df_life_satisfaction = df_life_satisfaction[df_life_satisfaction['Country'] != 'Lower-middle-income countries']\n",
    "df_life_satisfaction = df_life_satisfaction[df_life_satisfaction['Country'] != 'Upper-middle-income countries']\n",
    "df_life_satisfaction = df_life_satisfaction[df_life_satisfaction['Country'] != 'World']"
   ],
   "id": "88b28ca510eee54c",
   "outputs": [],
   "execution_count": 98
  },
  {
   "metadata": {
    "ExecuteTime": {
     "end_time": "2024-12-26T09:44:37.980861Z",
     "start_time": "2024-12-26T09:44:37.964324Z"
    }
   },
   "cell_type": "code",
   "source": "df_life_satisfaction",
   "id": "50be785d67886705",
   "outputs": [
    {
     "data": {
      "text/plain": [
       "          Country  Year  Cantril ladder score\n",
       "8     Afghanistan  2021              2.403800\n",
       "19         Africa  2021              4.517288\n",
       "30        Albania  2021              5.198800\n",
       "41        Algeria  2021              5.122300\n",
       "57      Argentina  2021              5.967000\n",
       "...           ...   ...                   ...\n",
       "1730    Venezuela  2021              4.925500\n",
       "1741      Vietnam  2021              5.485000\n",
       "1763        Yemen  2021              4.196900\n",
       "1773       Zambia  2021              3.759800\n",
       "1784     Zimbabwe  2021              2.995100\n",
       "\n",
       "[152 rows x 3 columns]"
      ],
      "text/html": [
       "<div>\n",
       "<style scoped>\n",
       "    .dataframe tbody tr th:only-of-type {\n",
       "        vertical-align: middle;\n",
       "    }\n",
       "\n",
       "    .dataframe tbody tr th {\n",
       "        vertical-align: top;\n",
       "    }\n",
       "\n",
       "    .dataframe thead th {\n",
       "        text-align: right;\n",
       "    }\n",
       "</style>\n",
       "<table border=\"1\" class=\"dataframe\">\n",
       "  <thead>\n",
       "    <tr style=\"text-align: right;\">\n",
       "      <th></th>\n",
       "      <th>Country</th>\n",
       "      <th>Year</th>\n",
       "      <th>Cantril ladder score</th>\n",
       "    </tr>\n",
       "  </thead>\n",
       "  <tbody>\n",
       "    <tr>\n",
       "      <th>8</th>\n",
       "      <td>Afghanistan</td>\n",
       "      <td>2021</td>\n",
       "      <td>2.403800</td>\n",
       "    </tr>\n",
       "    <tr>\n",
       "      <th>19</th>\n",
       "      <td>Africa</td>\n",
       "      <td>2021</td>\n",
       "      <td>4.517288</td>\n",
       "    </tr>\n",
       "    <tr>\n",
       "      <th>30</th>\n",
       "      <td>Albania</td>\n",
       "      <td>2021</td>\n",
       "      <td>5.198800</td>\n",
       "    </tr>\n",
       "    <tr>\n",
       "      <th>41</th>\n",
       "      <td>Algeria</td>\n",
       "      <td>2021</td>\n",
       "      <td>5.122300</td>\n",
       "    </tr>\n",
       "    <tr>\n",
       "      <th>57</th>\n",
       "      <td>Argentina</td>\n",
       "      <td>2021</td>\n",
       "      <td>5.967000</td>\n",
       "    </tr>\n",
       "    <tr>\n",
       "      <th>...</th>\n",
       "      <td>...</td>\n",
       "      <td>...</td>\n",
       "      <td>...</td>\n",
       "    </tr>\n",
       "    <tr>\n",
       "      <th>1730</th>\n",
       "      <td>Venezuela</td>\n",
       "      <td>2021</td>\n",
       "      <td>4.925500</td>\n",
       "    </tr>\n",
       "    <tr>\n",
       "      <th>1741</th>\n",
       "      <td>Vietnam</td>\n",
       "      <td>2021</td>\n",
       "      <td>5.485000</td>\n",
       "    </tr>\n",
       "    <tr>\n",
       "      <th>1763</th>\n",
       "      <td>Yemen</td>\n",
       "      <td>2021</td>\n",
       "      <td>4.196900</td>\n",
       "    </tr>\n",
       "    <tr>\n",
       "      <th>1773</th>\n",
       "      <td>Zambia</td>\n",
       "      <td>2021</td>\n",
       "      <td>3.759800</td>\n",
       "    </tr>\n",
       "    <tr>\n",
       "      <th>1784</th>\n",
       "      <td>Zimbabwe</td>\n",
       "      <td>2021</td>\n",
       "      <td>2.995100</td>\n",
       "    </tr>\n",
       "  </tbody>\n",
       "</table>\n",
       "<p>152 rows × 3 columns</p>\n",
       "</div>"
      ]
     },
     "execution_count": 99,
     "metadata": {},
     "output_type": "execute_result"
    }
   ],
   "execution_count": 99
  },
  {
   "metadata": {},
   "cell_type": "markdown",
   "source": "**3.2 Share in extreme poverty vs. life expectancy**",
   "id": "8e6a42ec6ec97f83"
  },
  {
   "metadata": {
    "ExecuteTime": {
     "end_time": "2024-12-26T09:44:38.162684Z",
     "start_time": "2024-12-26T09:44:38.151452Z"
    }
   },
   "cell_type": "code",
   "source": [
    "# Remove the unnecessary columns in the data frame\n",
    "df_extreme_poverty_life_expectancy = df_extreme_poverty_life_expectancy[['Entity', 'Year', 'Life expectancy - Sex: all - Age: 0 - Variant: estimates', '$2.15 a day - Share of population in poverty']]"
   ],
   "id": "4e972bc2b38e5438",
   "outputs": [],
   "execution_count": 100
  },
  {
   "metadata": {
    "ExecuteTime": {
     "end_time": "2024-12-26T09:44:38.301923Z",
     "start_time": "2024-12-26T09:44:38.290987Z"
    }
   },
   "cell_type": "code",
   "source": [
    "# Rename the applicable columns\n",
    "df_extreme_poverty_life_expectancy = df_extreme_poverty_life_expectancy.rename(columns={'Entity': 'Country', 'Life expectancy - Sex: all - Age: 0 - Variant: estimates': 'Life expectancy', '$2.15 a day - Share of population in poverty': 'Share in extreme poverty'})"
   ],
   "id": "1574326b9329e87b",
   "outputs": [],
   "execution_count": 101
  },
  {
   "metadata": {
    "ExecuteTime": {
     "end_time": "2024-12-26T09:44:38.450401Z",
     "start_time": "2024-12-26T09:44:38.440552Z"
    }
   },
   "cell_type": "code",
   "source": [
    "# Leaving only rows for year 2021\n",
    "df_extreme_poverty_life_expectancy = df_extreme_poverty_life_expectancy[df_extreme_poverty_life_expectancy['Year'] == 2021]"
   ],
   "id": "3b1fe108320cb0e6",
   "outputs": [],
   "execution_count": 102
  },
  {
   "metadata": {
    "ExecuteTime": {
     "end_time": "2024-12-26T09:44:38.520715Z",
     "start_time": "2024-12-26T09:44:38.512420Z"
    }
   },
   "cell_type": "code",
   "source": [
    "# Remove rows with missing values\n",
    "df_extreme_poverty_life_expectancy = df_extreme_poverty_life_expectancy.dropna()"
   ],
   "id": "f5dc985ce1482d8c",
   "outputs": [],
   "execution_count": 103
  },
  {
   "metadata": {
    "ExecuteTime": {
     "end_time": "2024-12-26T09:44:38.582029Z",
     "start_time": "2024-12-26T09:44:38.565028Z"
    }
   },
   "cell_type": "code",
   "source": "df_extreme_poverty_life_expectancy",
   "id": "24229a0a0103571a",
   "outputs": [
    {
     "data": {
      "text/plain": [
       "              Country  Year  Life expectancy  Share in extreme poverty\n",
       "2588          Armenia  2021           72.552                  0.523521\n",
       "3683          Austria  2021           81.820                  0.485822\n",
       "5502          Belgium  2021           81.659                  0.029965\n",
       "6024            Benin  2021           59.610                 12.723279\n",
       "6636          Bolivia  2021           61.427                  1.964501\n",
       "...               ...   ...              ...                       ...\n",
       "54536          Turkey  2021           75.722                  0.442865\n",
       "56400  United Kingdom  2021           80.708                  0.245101\n",
       "56661   United States  2021           76.384                  0.248719\n",
       "57298         Uruguay  2021           75.434                  0.112155\n",
       "59065           World  2021           70.865                  9.475222\n",
       "\n",
       "[71 rows x 4 columns]"
      ],
      "text/html": [
       "<div>\n",
       "<style scoped>\n",
       "    .dataframe tbody tr th:only-of-type {\n",
       "        vertical-align: middle;\n",
       "    }\n",
       "\n",
       "    .dataframe tbody tr th {\n",
       "        vertical-align: top;\n",
       "    }\n",
       "\n",
       "    .dataframe thead th {\n",
       "        text-align: right;\n",
       "    }\n",
       "</style>\n",
       "<table border=\"1\" class=\"dataframe\">\n",
       "  <thead>\n",
       "    <tr style=\"text-align: right;\">\n",
       "      <th></th>\n",
       "      <th>Country</th>\n",
       "      <th>Year</th>\n",
       "      <th>Life expectancy</th>\n",
       "      <th>Share in extreme poverty</th>\n",
       "    </tr>\n",
       "  </thead>\n",
       "  <tbody>\n",
       "    <tr>\n",
       "      <th>2588</th>\n",
       "      <td>Armenia</td>\n",
       "      <td>2021</td>\n",
       "      <td>72.552</td>\n",
       "      <td>0.523521</td>\n",
       "    </tr>\n",
       "    <tr>\n",
       "      <th>3683</th>\n",
       "      <td>Austria</td>\n",
       "      <td>2021</td>\n",
       "      <td>81.820</td>\n",
       "      <td>0.485822</td>\n",
       "    </tr>\n",
       "    <tr>\n",
       "      <th>5502</th>\n",
       "      <td>Belgium</td>\n",
       "      <td>2021</td>\n",
       "      <td>81.659</td>\n",
       "      <td>0.029965</td>\n",
       "    </tr>\n",
       "    <tr>\n",
       "      <th>6024</th>\n",
       "      <td>Benin</td>\n",
       "      <td>2021</td>\n",
       "      <td>59.610</td>\n",
       "      <td>12.723279</td>\n",
       "    </tr>\n",
       "    <tr>\n",
       "      <th>6636</th>\n",
       "      <td>Bolivia</td>\n",
       "      <td>2021</td>\n",
       "      <td>61.427</td>\n",
       "      <td>1.964501</td>\n",
       "    </tr>\n",
       "    <tr>\n",
       "      <th>...</th>\n",
       "      <td>...</td>\n",
       "      <td>...</td>\n",
       "      <td>...</td>\n",
       "      <td>...</td>\n",
       "    </tr>\n",
       "    <tr>\n",
       "      <th>54536</th>\n",
       "      <td>Turkey</td>\n",
       "      <td>2021</td>\n",
       "      <td>75.722</td>\n",
       "      <td>0.442865</td>\n",
       "    </tr>\n",
       "    <tr>\n",
       "      <th>56400</th>\n",
       "      <td>United Kingdom</td>\n",
       "      <td>2021</td>\n",
       "      <td>80.708</td>\n",
       "      <td>0.245101</td>\n",
       "    </tr>\n",
       "    <tr>\n",
       "      <th>56661</th>\n",
       "      <td>United States</td>\n",
       "      <td>2021</td>\n",
       "      <td>76.384</td>\n",
       "      <td>0.248719</td>\n",
       "    </tr>\n",
       "    <tr>\n",
       "      <th>57298</th>\n",
       "      <td>Uruguay</td>\n",
       "      <td>2021</td>\n",
       "      <td>75.434</td>\n",
       "      <td>0.112155</td>\n",
       "    </tr>\n",
       "    <tr>\n",
       "      <th>59065</th>\n",
       "      <td>World</td>\n",
       "      <td>2021</td>\n",
       "      <td>70.865</td>\n",
       "      <td>9.475222</td>\n",
       "    </tr>\n",
       "  </tbody>\n",
       "</table>\n",
       "<p>71 rows × 4 columns</p>\n",
       "</div>"
      ]
     },
     "execution_count": 104,
     "metadata": {},
     "output_type": "execute_result"
    }
   ],
   "execution_count": 104
  },
  {
   "metadata": {
    "ExecuteTime": {
     "end_time": "2024-12-26T09:44:38.691232Z",
     "start_time": "2024-12-26T09:44:38.683602Z"
    }
   },
   "cell_type": "code",
   "source": [
    "# Remove not-country-specific entries\n",
    "df_extreme_poverty_life_expectancy = df_extreme_poverty_life_expectancy[df_extreme_poverty_life_expectancy['Country'] != 'World']"
   ],
   "id": "6fbf2faac921e8e8",
   "outputs": [],
   "execution_count": 105
  },
  {
   "metadata": {
    "ExecuteTime": {
     "end_time": "2024-12-26T09:44:38.818644Z",
     "start_time": "2024-12-26T09:44:38.800098Z"
    }
   },
   "cell_type": "code",
   "source": "df_extreme_poverty_life_expectancy",
   "id": "b63308ce0d1edf7",
   "outputs": [
    {
     "data": {
      "text/plain": [
       "              Country  Year  Life expectancy  Share in extreme poverty\n",
       "2588          Armenia  2021           72.552                  0.523521\n",
       "3683          Austria  2021           81.820                  0.485822\n",
       "5502          Belgium  2021           81.659                  0.029965\n",
       "6024            Benin  2021           59.610                 12.723279\n",
       "6636          Bolivia  2021           61.427                  1.964501\n",
       "...               ...   ...              ...                       ...\n",
       "54275         Tunisia  2021           72.893                  0.273734\n",
       "54536          Turkey  2021           75.722                  0.442865\n",
       "56400  United Kingdom  2021           80.708                  0.245101\n",
       "56661   United States  2021           76.384                  0.248719\n",
       "57298         Uruguay  2021           75.434                  0.112155\n",
       "\n",
       "[70 rows x 4 columns]"
      ],
      "text/html": [
       "<div>\n",
       "<style scoped>\n",
       "    .dataframe tbody tr th:only-of-type {\n",
       "        vertical-align: middle;\n",
       "    }\n",
       "\n",
       "    .dataframe tbody tr th {\n",
       "        vertical-align: top;\n",
       "    }\n",
       "\n",
       "    .dataframe thead th {\n",
       "        text-align: right;\n",
       "    }\n",
       "</style>\n",
       "<table border=\"1\" class=\"dataframe\">\n",
       "  <thead>\n",
       "    <tr style=\"text-align: right;\">\n",
       "      <th></th>\n",
       "      <th>Country</th>\n",
       "      <th>Year</th>\n",
       "      <th>Life expectancy</th>\n",
       "      <th>Share in extreme poverty</th>\n",
       "    </tr>\n",
       "  </thead>\n",
       "  <tbody>\n",
       "    <tr>\n",
       "      <th>2588</th>\n",
       "      <td>Armenia</td>\n",
       "      <td>2021</td>\n",
       "      <td>72.552</td>\n",
       "      <td>0.523521</td>\n",
       "    </tr>\n",
       "    <tr>\n",
       "      <th>3683</th>\n",
       "      <td>Austria</td>\n",
       "      <td>2021</td>\n",
       "      <td>81.820</td>\n",
       "      <td>0.485822</td>\n",
       "    </tr>\n",
       "    <tr>\n",
       "      <th>5502</th>\n",
       "      <td>Belgium</td>\n",
       "      <td>2021</td>\n",
       "      <td>81.659</td>\n",
       "      <td>0.029965</td>\n",
       "    </tr>\n",
       "    <tr>\n",
       "      <th>6024</th>\n",
       "      <td>Benin</td>\n",
       "      <td>2021</td>\n",
       "      <td>59.610</td>\n",
       "      <td>12.723279</td>\n",
       "    </tr>\n",
       "    <tr>\n",
       "      <th>6636</th>\n",
       "      <td>Bolivia</td>\n",
       "      <td>2021</td>\n",
       "      <td>61.427</td>\n",
       "      <td>1.964501</td>\n",
       "    </tr>\n",
       "    <tr>\n",
       "      <th>...</th>\n",
       "      <td>...</td>\n",
       "      <td>...</td>\n",
       "      <td>...</td>\n",
       "      <td>...</td>\n",
       "    </tr>\n",
       "    <tr>\n",
       "      <th>54275</th>\n",
       "      <td>Tunisia</td>\n",
       "      <td>2021</td>\n",
       "      <td>72.893</td>\n",
       "      <td>0.273734</td>\n",
       "    </tr>\n",
       "    <tr>\n",
       "      <th>54536</th>\n",
       "      <td>Turkey</td>\n",
       "      <td>2021</td>\n",
       "      <td>75.722</td>\n",
       "      <td>0.442865</td>\n",
       "    </tr>\n",
       "    <tr>\n",
       "      <th>56400</th>\n",
       "      <td>United Kingdom</td>\n",
       "      <td>2021</td>\n",
       "      <td>80.708</td>\n",
       "      <td>0.245101</td>\n",
       "    </tr>\n",
       "    <tr>\n",
       "      <th>56661</th>\n",
       "      <td>United States</td>\n",
       "      <td>2021</td>\n",
       "      <td>76.384</td>\n",
       "      <td>0.248719</td>\n",
       "    </tr>\n",
       "    <tr>\n",
       "      <th>57298</th>\n",
       "      <td>Uruguay</td>\n",
       "      <td>2021</td>\n",
       "      <td>75.434</td>\n",
       "      <td>0.112155</td>\n",
       "    </tr>\n",
       "  </tbody>\n",
       "</table>\n",
       "<p>70 rows × 4 columns</p>\n",
       "</div>"
      ]
     },
     "execution_count": 106,
     "metadata": {},
     "output_type": "execute_result"
    }
   ],
   "execution_count": 106
  },
  {
   "metadata": {},
   "cell_type": "markdown",
   "source": "**3.3 Political corruption index**",
   "id": "c64552aa77c6ea32"
  },
  {
   "metadata": {
    "ExecuteTime": {
     "end_time": "2024-12-26T09:44:38.991393Z",
     "start_time": "2024-12-26T09:44:38.981347Z"
    }
   },
   "cell_type": "code",
   "source": [
    "# Remove the unnecessary columns in the data frame\n",
    "df_political_corruption = df_political_corruption[['Entity', 'Year', 'Political corruption index (best estimate, aggregate: average)']]"
   ],
   "id": "ac3e2bea12560696",
   "outputs": [],
   "execution_count": 107
  },
  {
   "metadata": {
    "ExecuteTime": {
     "end_time": "2024-12-26T09:44:39.115907Z",
     "start_time": "2024-12-26T09:44:39.107306Z"
    }
   },
   "cell_type": "code",
   "source": [
    "# Rename the applicable columns\n",
    "df_political_corruption = df_political_corruption.rename(columns={'Entity': 'Country', 'Political corruption index (best estimate, aggregate: average)': 'Political corruption index'})"
   ],
   "id": "9364a9e6d1911acd",
   "outputs": [],
   "execution_count": 108
  },
  {
   "metadata": {
    "ExecuteTime": {
     "end_time": "2024-12-26T09:44:39.282202Z",
     "start_time": "2024-12-26T09:44:39.273825Z"
    }
   },
   "cell_type": "code",
   "source": [
    "# Leaving only rows for year 2021\n",
    "df_political_corruption = df_political_corruption[df_political_corruption['Year'] == 2021]"
   ],
   "id": "d0ec59996c24b8e3",
   "outputs": [],
   "execution_count": 109
  },
  {
   "metadata": {
    "ExecuteTime": {
     "end_time": "2024-12-26T09:44:39.407160Z",
     "start_time": "2024-12-26T09:44:39.399455Z"
    }
   },
   "cell_type": "code",
   "source": [
    "# Remove rows with missing values\n",
    "df_political_corruption = df_political_corruption.dropna()"
   ],
   "id": "2cfc1f67205b69f3",
   "outputs": [],
   "execution_count": 110
  },
  {
   "metadata": {
    "ExecuteTime": {
     "end_time": "2024-12-26T09:44:39.470513Z",
     "start_time": "2024-12-26T09:44:39.453184Z"
    }
   },
   "cell_type": "code",
   "source": "df_political_corruption",
   "id": "7cde05d26238b810",
   "outputs": [
    {
     "data": {
      "text/plain": [
       "           Country  Year  Political corruption index\n",
       "232    Afghanistan  2021                    0.397000\n",
       "467         Africa  2021                    0.624089\n",
       "579        Albania  2021                    0.609000\n",
       "703        Algeria  2021                    0.693000\n",
       "827         Angola  2021                    0.510000\n",
       "...            ...   ...                         ...\n",
       "32273        World  2021                    0.483179\n",
       "32518        Yemen  2021                    0.936000\n",
       "32795       Zambia  2021                    0.440000\n",
       "32963     Zanzibar  2021                    0.715000\n",
       "33087     Zimbabwe  2021                    0.826000\n",
       "\n",
       "[186 rows x 3 columns]"
      ],
      "text/html": [
       "<div>\n",
       "<style scoped>\n",
       "    .dataframe tbody tr th:only-of-type {\n",
       "        vertical-align: middle;\n",
       "    }\n",
       "\n",
       "    .dataframe tbody tr th {\n",
       "        vertical-align: top;\n",
       "    }\n",
       "\n",
       "    .dataframe thead th {\n",
       "        text-align: right;\n",
       "    }\n",
       "</style>\n",
       "<table border=\"1\" class=\"dataframe\">\n",
       "  <thead>\n",
       "    <tr style=\"text-align: right;\">\n",
       "      <th></th>\n",
       "      <th>Country</th>\n",
       "      <th>Year</th>\n",
       "      <th>Political corruption index</th>\n",
       "    </tr>\n",
       "  </thead>\n",
       "  <tbody>\n",
       "    <tr>\n",
       "      <th>232</th>\n",
       "      <td>Afghanistan</td>\n",
       "      <td>2021</td>\n",
       "      <td>0.397000</td>\n",
       "    </tr>\n",
       "    <tr>\n",
       "      <th>467</th>\n",
       "      <td>Africa</td>\n",
       "      <td>2021</td>\n",
       "      <td>0.624089</td>\n",
       "    </tr>\n",
       "    <tr>\n",
       "      <th>579</th>\n",
       "      <td>Albania</td>\n",
       "      <td>2021</td>\n",
       "      <td>0.609000</td>\n",
       "    </tr>\n",
       "    <tr>\n",
       "      <th>703</th>\n",
       "      <td>Algeria</td>\n",
       "      <td>2021</td>\n",
       "      <td>0.693000</td>\n",
       "    </tr>\n",
       "    <tr>\n",
       "      <th>827</th>\n",
       "      <td>Angola</td>\n",
       "      <td>2021</td>\n",
       "      <td>0.510000</td>\n",
       "    </tr>\n",
       "    <tr>\n",
       "      <th>...</th>\n",
       "      <td>...</td>\n",
       "      <td>...</td>\n",
       "      <td>...</td>\n",
       "    </tr>\n",
       "    <tr>\n",
       "      <th>32273</th>\n",
       "      <td>World</td>\n",
       "      <td>2021</td>\n",
       "      <td>0.483179</td>\n",
       "    </tr>\n",
       "    <tr>\n",
       "      <th>32518</th>\n",
       "      <td>Yemen</td>\n",
       "      <td>2021</td>\n",
       "      <td>0.936000</td>\n",
       "    </tr>\n",
       "    <tr>\n",
       "      <th>32795</th>\n",
       "      <td>Zambia</td>\n",
       "      <td>2021</td>\n",
       "      <td>0.440000</td>\n",
       "    </tr>\n",
       "    <tr>\n",
       "      <th>32963</th>\n",
       "      <td>Zanzibar</td>\n",
       "      <td>2021</td>\n",
       "      <td>0.715000</td>\n",
       "    </tr>\n",
       "    <tr>\n",
       "      <th>33087</th>\n",
       "      <td>Zimbabwe</td>\n",
       "      <td>2021</td>\n",
       "      <td>0.826000</td>\n",
       "    </tr>\n",
       "  </tbody>\n",
       "</table>\n",
       "<p>186 rows × 3 columns</p>\n",
       "</div>"
      ]
     },
     "execution_count": 111,
     "metadata": {},
     "output_type": "execute_result"
    }
   ],
   "execution_count": 111
  },
  {
   "metadata": {
    "ExecuteTime": {
     "end_time": "2024-12-26T09:44:39.602741Z",
     "start_time": "2024-12-26T09:44:39.593704Z"
    }
   },
   "cell_type": "code",
   "source": [
    "# Remove not-country-specific entries\n",
    "df_political_corruption = df_political_corruption[df_political_corruption['Country'] != 'World']"
   ],
   "id": "78fcac11b5f4df27",
   "outputs": [],
   "execution_count": 112
  },
  {
   "metadata": {
    "ExecuteTime": {
     "end_time": "2024-12-26T09:44:39.753811Z",
     "start_time": "2024-12-26T09:44:39.737830Z"
    }
   },
   "cell_type": "code",
   "source": "df_political_corruption",
   "id": "b018a71cbceb1ffd",
   "outputs": [
    {
     "data": {
      "text/plain": [
       "           Country  Year  Political corruption index\n",
       "232    Afghanistan  2021                    0.397000\n",
       "467         Africa  2021                    0.624089\n",
       "579        Albania  2021                    0.609000\n",
       "703        Algeria  2021                    0.693000\n",
       "827         Angola  2021                    0.510000\n",
       "...            ...   ...                         ...\n",
       "31996      Vietnam  2021                    0.484000\n",
       "32518        Yemen  2021                    0.936000\n",
       "32795       Zambia  2021                    0.440000\n",
       "32963     Zanzibar  2021                    0.715000\n",
       "33087     Zimbabwe  2021                    0.826000\n",
       "\n",
       "[185 rows x 3 columns]"
      ],
      "text/html": [
       "<div>\n",
       "<style scoped>\n",
       "    .dataframe tbody tr th:only-of-type {\n",
       "        vertical-align: middle;\n",
       "    }\n",
       "\n",
       "    .dataframe tbody tr th {\n",
       "        vertical-align: top;\n",
       "    }\n",
       "\n",
       "    .dataframe thead th {\n",
       "        text-align: right;\n",
       "    }\n",
       "</style>\n",
       "<table border=\"1\" class=\"dataframe\">\n",
       "  <thead>\n",
       "    <tr style=\"text-align: right;\">\n",
       "      <th></th>\n",
       "      <th>Country</th>\n",
       "      <th>Year</th>\n",
       "      <th>Political corruption index</th>\n",
       "    </tr>\n",
       "  </thead>\n",
       "  <tbody>\n",
       "    <tr>\n",
       "      <th>232</th>\n",
       "      <td>Afghanistan</td>\n",
       "      <td>2021</td>\n",
       "      <td>0.397000</td>\n",
       "    </tr>\n",
       "    <tr>\n",
       "      <th>467</th>\n",
       "      <td>Africa</td>\n",
       "      <td>2021</td>\n",
       "      <td>0.624089</td>\n",
       "    </tr>\n",
       "    <tr>\n",
       "      <th>579</th>\n",
       "      <td>Albania</td>\n",
       "      <td>2021</td>\n",
       "      <td>0.609000</td>\n",
       "    </tr>\n",
       "    <tr>\n",
       "      <th>703</th>\n",
       "      <td>Algeria</td>\n",
       "      <td>2021</td>\n",
       "      <td>0.693000</td>\n",
       "    </tr>\n",
       "    <tr>\n",
       "      <th>827</th>\n",
       "      <td>Angola</td>\n",
       "      <td>2021</td>\n",
       "      <td>0.510000</td>\n",
       "    </tr>\n",
       "    <tr>\n",
       "      <th>...</th>\n",
       "      <td>...</td>\n",
       "      <td>...</td>\n",
       "      <td>...</td>\n",
       "    </tr>\n",
       "    <tr>\n",
       "      <th>31996</th>\n",
       "      <td>Vietnam</td>\n",
       "      <td>2021</td>\n",
       "      <td>0.484000</td>\n",
       "    </tr>\n",
       "    <tr>\n",
       "      <th>32518</th>\n",
       "      <td>Yemen</td>\n",
       "      <td>2021</td>\n",
       "      <td>0.936000</td>\n",
       "    </tr>\n",
       "    <tr>\n",
       "      <th>32795</th>\n",
       "      <td>Zambia</td>\n",
       "      <td>2021</td>\n",
       "      <td>0.440000</td>\n",
       "    </tr>\n",
       "    <tr>\n",
       "      <th>32963</th>\n",
       "      <td>Zanzibar</td>\n",
       "      <td>2021</td>\n",
       "      <td>0.715000</td>\n",
       "    </tr>\n",
       "    <tr>\n",
       "      <th>33087</th>\n",
       "      <td>Zimbabwe</td>\n",
       "      <td>2021</td>\n",
       "      <td>0.826000</td>\n",
       "    </tr>\n",
       "  </tbody>\n",
       "</table>\n",
       "<p>185 rows × 3 columns</p>\n",
       "</div>"
      ]
     },
     "execution_count": 113,
     "metadata": {},
     "output_type": "execute_result"
    }
   ],
   "execution_count": 113
  },
  {
   "metadata": {},
   "cell_type": "markdown",
   "source": "#### 4. Data  Segregation\n",
   "id": "983e33be26804b93"
  },
  {
   "metadata": {
    "ExecuteTime": {
     "end_time": "2024-12-26T09:44:39.873508Z",
     "start_time": "2024-12-26T09:44:39.865798Z"
    }
   },
   "cell_type": "code",
   "source": "continents = ['Africa', 'Asia', 'Australia', 'Europe', 'North America', 'South America']",
   "id": "e64a1cc141b28aca",
   "outputs": [],
   "execution_count": 114
  },
  {
   "metadata": {},
   "cell_type": "markdown",
   "source": "**4.1 Self-reported life satisfaction**",
   "id": "a2f067f6d253d5c3"
  },
  {
   "metadata": {
    "ExecuteTime": {
     "end_time": "2024-12-26T09:44:40.036573Z",
     "start_time": "2024-12-26T09:44:40.027032Z"
    }
   },
   "cell_type": "code",
   "source": [
    "# Extract data only for continents\n",
    "df_life_satisfaction_continents = df_life_satisfaction[df_life_satisfaction['Country'].isin(continents)]"
   ],
   "id": "e97e194b3a83fc9e",
   "outputs": [],
   "execution_count": 115
  },
  {
   "metadata": {
    "ExecuteTime": {
     "end_time": "2024-12-26T09:44:40.114834Z",
     "start_time": "2024-12-26T09:44:40.098693Z"
    }
   },
   "cell_type": "code",
   "source": "df_life_satisfaction_continents",
   "id": "187c71e5c9638303",
   "outputs": [
    {
     "data": {
      "text/plain": [
       "            Country  Year  Cantril ladder score\n",
       "19           Africa  2021              4.517288\n",
       "79             Asia  2021              4.892916\n",
       "90        Australia  2021              7.162100\n",
       "511          Europe  2021              6.338868\n",
       "1190  North America  2021              6.692469\n",
       "1465  South America  2021              5.985671"
      ],
      "text/html": [
       "<div>\n",
       "<style scoped>\n",
       "    .dataframe tbody tr th:only-of-type {\n",
       "        vertical-align: middle;\n",
       "    }\n",
       "\n",
       "    .dataframe tbody tr th {\n",
       "        vertical-align: top;\n",
       "    }\n",
       "\n",
       "    .dataframe thead th {\n",
       "        text-align: right;\n",
       "    }\n",
       "</style>\n",
       "<table border=\"1\" class=\"dataframe\">\n",
       "  <thead>\n",
       "    <tr style=\"text-align: right;\">\n",
       "      <th></th>\n",
       "      <th>Country</th>\n",
       "      <th>Year</th>\n",
       "      <th>Cantril ladder score</th>\n",
       "    </tr>\n",
       "  </thead>\n",
       "  <tbody>\n",
       "    <tr>\n",
       "      <th>19</th>\n",
       "      <td>Africa</td>\n",
       "      <td>2021</td>\n",
       "      <td>4.517288</td>\n",
       "    </tr>\n",
       "    <tr>\n",
       "      <th>79</th>\n",
       "      <td>Asia</td>\n",
       "      <td>2021</td>\n",
       "      <td>4.892916</td>\n",
       "    </tr>\n",
       "    <tr>\n",
       "      <th>90</th>\n",
       "      <td>Australia</td>\n",
       "      <td>2021</td>\n",
       "      <td>7.162100</td>\n",
       "    </tr>\n",
       "    <tr>\n",
       "      <th>511</th>\n",
       "      <td>Europe</td>\n",
       "      <td>2021</td>\n",
       "      <td>6.338868</td>\n",
       "    </tr>\n",
       "    <tr>\n",
       "      <th>1190</th>\n",
       "      <td>North America</td>\n",
       "      <td>2021</td>\n",
       "      <td>6.692469</td>\n",
       "    </tr>\n",
       "    <tr>\n",
       "      <th>1465</th>\n",
       "      <td>South America</td>\n",
       "      <td>2021</td>\n",
       "      <td>5.985671</td>\n",
       "    </tr>\n",
       "  </tbody>\n",
       "</table>\n",
       "</div>"
      ]
     },
     "execution_count": 116,
     "metadata": {},
     "output_type": "execute_result"
    }
   ],
   "execution_count": 116
  },
  {
   "metadata": {
    "ExecuteTime": {
     "end_time": "2024-12-26T09:44:40.260308Z",
     "start_time": "2024-12-26T09:44:40.249349Z"
    }
   },
   "cell_type": "code",
   "source": [
    "# Remove continent entries in the original data frame\n",
    "df_life_satisfaction = df_life_satisfaction[(~df_life_satisfaction['Country'].isin(continents)) | (df_life_satisfaction['Country'] == 'Australia')]"
   ],
   "id": "b723ad7da034ca0d",
   "outputs": [],
   "execution_count": 117
  },
  {
   "metadata": {
    "ExecuteTime": {
     "end_time": "2024-12-26T09:44:40.430071Z",
     "start_time": "2024-12-26T09:44:40.410370Z"
    }
   },
   "cell_type": "code",
   "source": "df_life_satisfaction",
   "id": "84e9fb69e499ec4c",
   "outputs": [
    {
     "data": {
      "text/plain": [
       "          Country  Year  Cantril ladder score\n",
       "8     Afghanistan  2021                2.4038\n",
       "30        Albania  2021                5.1988\n",
       "41        Algeria  2021                5.1223\n",
       "57      Argentina  2021                5.9670\n",
       "68        Armenia  2021                5.3986\n",
       "...           ...   ...                   ...\n",
       "1730    Venezuela  2021                4.9255\n",
       "1741      Vietnam  2021                5.4850\n",
       "1763        Yemen  2021                4.1969\n",
       "1773       Zambia  2021                3.7598\n",
       "1784     Zimbabwe  2021                2.9951\n",
       "\n",
       "[147 rows x 3 columns]"
      ],
      "text/html": [
       "<div>\n",
       "<style scoped>\n",
       "    .dataframe tbody tr th:only-of-type {\n",
       "        vertical-align: middle;\n",
       "    }\n",
       "\n",
       "    .dataframe tbody tr th {\n",
       "        vertical-align: top;\n",
       "    }\n",
       "\n",
       "    .dataframe thead th {\n",
       "        text-align: right;\n",
       "    }\n",
       "</style>\n",
       "<table border=\"1\" class=\"dataframe\">\n",
       "  <thead>\n",
       "    <tr style=\"text-align: right;\">\n",
       "      <th></th>\n",
       "      <th>Country</th>\n",
       "      <th>Year</th>\n",
       "      <th>Cantril ladder score</th>\n",
       "    </tr>\n",
       "  </thead>\n",
       "  <tbody>\n",
       "    <tr>\n",
       "      <th>8</th>\n",
       "      <td>Afghanistan</td>\n",
       "      <td>2021</td>\n",
       "      <td>2.4038</td>\n",
       "    </tr>\n",
       "    <tr>\n",
       "      <th>30</th>\n",
       "      <td>Albania</td>\n",
       "      <td>2021</td>\n",
       "      <td>5.1988</td>\n",
       "    </tr>\n",
       "    <tr>\n",
       "      <th>41</th>\n",
       "      <td>Algeria</td>\n",
       "      <td>2021</td>\n",
       "      <td>5.1223</td>\n",
       "    </tr>\n",
       "    <tr>\n",
       "      <th>57</th>\n",
       "      <td>Argentina</td>\n",
       "      <td>2021</td>\n",
       "      <td>5.9670</td>\n",
       "    </tr>\n",
       "    <tr>\n",
       "      <th>68</th>\n",
       "      <td>Armenia</td>\n",
       "      <td>2021</td>\n",
       "      <td>5.3986</td>\n",
       "    </tr>\n",
       "    <tr>\n",
       "      <th>...</th>\n",
       "      <td>...</td>\n",
       "      <td>...</td>\n",
       "      <td>...</td>\n",
       "    </tr>\n",
       "    <tr>\n",
       "      <th>1730</th>\n",
       "      <td>Venezuela</td>\n",
       "      <td>2021</td>\n",
       "      <td>4.9255</td>\n",
       "    </tr>\n",
       "    <tr>\n",
       "      <th>1741</th>\n",
       "      <td>Vietnam</td>\n",
       "      <td>2021</td>\n",
       "      <td>5.4850</td>\n",
       "    </tr>\n",
       "    <tr>\n",
       "      <th>1763</th>\n",
       "      <td>Yemen</td>\n",
       "      <td>2021</td>\n",
       "      <td>4.1969</td>\n",
       "    </tr>\n",
       "    <tr>\n",
       "      <th>1773</th>\n",
       "      <td>Zambia</td>\n",
       "      <td>2021</td>\n",
       "      <td>3.7598</td>\n",
       "    </tr>\n",
       "    <tr>\n",
       "      <th>1784</th>\n",
       "      <td>Zimbabwe</td>\n",
       "      <td>2021</td>\n",
       "      <td>2.9951</td>\n",
       "    </tr>\n",
       "  </tbody>\n",
       "</table>\n",
       "<p>147 rows × 3 columns</p>\n",
       "</div>"
      ]
     },
     "execution_count": 118,
     "metadata": {},
     "output_type": "execute_result"
    }
   ],
   "execution_count": 118
  },
  {
   "metadata": {
    "ExecuteTime": {
     "end_time": "2024-12-26T09:50:05.011661Z",
     "start_time": "2024-12-26T09:50:04.999381Z"
    }
   },
   "cell_type": "code",
   "source": "df_life_satisfaction.count()",
   "id": "fa4fcb34685e7240",
   "outputs": [
    {
     "data": {
      "text/plain": [
       "Country                 147\n",
       "Year                    147\n",
       "Cantril ladder score    147\n",
       "dtype: int64"
      ]
     },
     "execution_count": 124,
     "metadata": {},
     "output_type": "execute_result"
    }
   ],
   "execution_count": 124
  },
  {
   "metadata": {},
   "cell_type": "markdown",
   "source": "**4.2 Political corruption index**",
   "id": "c9e295144d47a002"
  },
  {
   "metadata": {
    "ExecuteTime": {
     "end_time": "2024-12-26T09:47:13.389978Z",
     "start_time": "2024-12-26T09:47:13.382197Z"
    }
   },
   "cell_type": "code",
   "source": [
    "# Extract data only for continents\n",
    "df_political_corruption_continents = df_political_corruption[df_political_corruption['Country'].isin(continents)]"
   ],
   "id": "926d1965e26df985",
   "outputs": [],
   "execution_count": 119
  },
  {
   "metadata": {
    "ExecuteTime": {
     "end_time": "2024-12-26T09:47:14.847583Z",
     "start_time": "2024-12-26T09:47:14.834353Z"
    }
   },
   "cell_type": "code",
   "source": "df_political_corruption_continents",
   "id": "31934bcde85f450a",
   "outputs": [
    {
     "data": {
      "text/plain": [
       "             Country  Year  Political corruption index\n",
       "467           Africa  2021                    0.624089\n",
       "1403            Asia  2021                    0.555878\n",
       "1638       Australia  2021                    0.031000\n",
       "9709          Europe  2021                    0.235659\n",
       "20953  North America  2021                    0.458667\n",
       "26875  South America  2021                    0.472500"
      ],
      "text/html": [
       "<div>\n",
       "<style scoped>\n",
       "    .dataframe tbody tr th:only-of-type {\n",
       "        vertical-align: middle;\n",
       "    }\n",
       "\n",
       "    .dataframe tbody tr th {\n",
       "        vertical-align: top;\n",
       "    }\n",
       "\n",
       "    .dataframe thead th {\n",
       "        text-align: right;\n",
       "    }\n",
       "</style>\n",
       "<table border=\"1\" class=\"dataframe\">\n",
       "  <thead>\n",
       "    <tr style=\"text-align: right;\">\n",
       "      <th></th>\n",
       "      <th>Country</th>\n",
       "      <th>Year</th>\n",
       "      <th>Political corruption index</th>\n",
       "    </tr>\n",
       "  </thead>\n",
       "  <tbody>\n",
       "    <tr>\n",
       "      <th>467</th>\n",
       "      <td>Africa</td>\n",
       "      <td>2021</td>\n",
       "      <td>0.624089</td>\n",
       "    </tr>\n",
       "    <tr>\n",
       "      <th>1403</th>\n",
       "      <td>Asia</td>\n",
       "      <td>2021</td>\n",
       "      <td>0.555878</td>\n",
       "    </tr>\n",
       "    <tr>\n",
       "      <th>1638</th>\n",
       "      <td>Australia</td>\n",
       "      <td>2021</td>\n",
       "      <td>0.031000</td>\n",
       "    </tr>\n",
       "    <tr>\n",
       "      <th>9709</th>\n",
       "      <td>Europe</td>\n",
       "      <td>2021</td>\n",
       "      <td>0.235659</td>\n",
       "    </tr>\n",
       "    <tr>\n",
       "      <th>20953</th>\n",
       "      <td>North America</td>\n",
       "      <td>2021</td>\n",
       "      <td>0.458667</td>\n",
       "    </tr>\n",
       "    <tr>\n",
       "      <th>26875</th>\n",
       "      <td>South America</td>\n",
       "      <td>2021</td>\n",
       "      <td>0.472500</td>\n",
       "    </tr>\n",
       "  </tbody>\n",
       "</table>\n",
       "</div>"
      ]
     },
     "execution_count": 120,
     "metadata": {},
     "output_type": "execute_result"
    }
   ],
   "execution_count": 120
  },
  {
   "metadata": {
    "ExecuteTime": {
     "end_time": "2024-12-26T09:48:19.692063Z",
     "start_time": "2024-12-26T09:48:19.683352Z"
    }
   },
   "cell_type": "code",
   "source": [
    "# Remove continent entries in the original data frame\n",
    "df_political_corruption = df_political_corruption[(~df_political_corruption['Country'].isin(continents)) | (df_political_corruption['Country'] == 'Australia')]"
   ],
   "id": "a55f3bc596d6d3f3",
   "outputs": [],
   "execution_count": 121
  },
  {
   "metadata": {
    "ExecuteTime": {
     "end_time": "2024-12-26T09:48:20.904234Z",
     "start_time": "2024-12-26T09:48:20.888337Z"
    }
   },
   "cell_type": "code",
   "source": "df_political_corruption",
   "id": "6dede8a139b91dc5",
   "outputs": [
    {
     "data": {
      "text/plain": [
       "           Country  Year  Political corruption index\n",
       "232    Afghanistan  2021                       0.397\n",
       "579        Albania  2021                       0.609\n",
       "703        Algeria  2021                       0.693\n",
       "827         Angola  2021                       0.510\n",
       "1062     Argentina  2021                       0.471\n",
       "...            ...   ...                         ...\n",
       "31996      Vietnam  2021                       0.484\n",
       "32518        Yemen  2021                       0.936\n",
       "32795       Zambia  2021                       0.440\n",
       "32963     Zanzibar  2021                       0.715\n",
       "33087     Zimbabwe  2021                       0.826\n",
       "\n",
       "[180 rows x 3 columns]"
      ],
      "text/html": [
       "<div>\n",
       "<style scoped>\n",
       "    .dataframe tbody tr th:only-of-type {\n",
       "        vertical-align: middle;\n",
       "    }\n",
       "\n",
       "    .dataframe tbody tr th {\n",
       "        vertical-align: top;\n",
       "    }\n",
       "\n",
       "    .dataframe thead th {\n",
       "        text-align: right;\n",
       "    }\n",
       "</style>\n",
       "<table border=\"1\" class=\"dataframe\">\n",
       "  <thead>\n",
       "    <tr style=\"text-align: right;\">\n",
       "      <th></th>\n",
       "      <th>Country</th>\n",
       "      <th>Year</th>\n",
       "      <th>Political corruption index</th>\n",
       "    </tr>\n",
       "  </thead>\n",
       "  <tbody>\n",
       "    <tr>\n",
       "      <th>232</th>\n",
       "      <td>Afghanistan</td>\n",
       "      <td>2021</td>\n",
       "      <td>0.397</td>\n",
       "    </tr>\n",
       "    <tr>\n",
       "      <th>579</th>\n",
       "      <td>Albania</td>\n",
       "      <td>2021</td>\n",
       "      <td>0.609</td>\n",
       "    </tr>\n",
       "    <tr>\n",
       "      <th>703</th>\n",
       "      <td>Algeria</td>\n",
       "      <td>2021</td>\n",
       "      <td>0.693</td>\n",
       "    </tr>\n",
       "    <tr>\n",
       "      <th>827</th>\n",
       "      <td>Angola</td>\n",
       "      <td>2021</td>\n",
       "      <td>0.510</td>\n",
       "    </tr>\n",
       "    <tr>\n",
       "      <th>1062</th>\n",
       "      <td>Argentina</td>\n",
       "      <td>2021</td>\n",
       "      <td>0.471</td>\n",
       "    </tr>\n",
       "    <tr>\n",
       "      <th>...</th>\n",
       "      <td>...</td>\n",
       "      <td>...</td>\n",
       "      <td>...</td>\n",
       "    </tr>\n",
       "    <tr>\n",
       "      <th>31996</th>\n",
       "      <td>Vietnam</td>\n",
       "      <td>2021</td>\n",
       "      <td>0.484</td>\n",
       "    </tr>\n",
       "    <tr>\n",
       "      <th>32518</th>\n",
       "      <td>Yemen</td>\n",
       "      <td>2021</td>\n",
       "      <td>0.936</td>\n",
       "    </tr>\n",
       "    <tr>\n",
       "      <th>32795</th>\n",
       "      <td>Zambia</td>\n",
       "      <td>2021</td>\n",
       "      <td>0.440</td>\n",
       "    </tr>\n",
       "    <tr>\n",
       "      <th>32963</th>\n",
       "      <td>Zanzibar</td>\n",
       "      <td>2021</td>\n",
       "      <td>0.715</td>\n",
       "    </tr>\n",
       "    <tr>\n",
       "      <th>33087</th>\n",
       "      <td>Zimbabwe</td>\n",
       "      <td>2021</td>\n",
       "      <td>0.826</td>\n",
       "    </tr>\n",
       "  </tbody>\n",
       "</table>\n",
       "<p>180 rows × 3 columns</p>\n",
       "</div>"
      ]
     },
     "execution_count": 122,
     "metadata": {},
     "output_type": "execute_result"
    }
   ],
   "execution_count": 122
  },
  {
   "metadata": {
    "ExecuteTime": {
     "end_time": "2024-12-26T09:49:41.906446Z",
     "start_time": "2024-12-26T09:49:41.892179Z"
    }
   },
   "cell_type": "code",
   "source": "df_political_corruption.count()",
   "id": "35dca41fbfcf0103",
   "outputs": [
    {
     "data": {
      "text/plain": [
       "Country                       180\n",
       "Year                          180\n",
       "Political corruption index    180\n",
       "dtype: int64"
      ]
     },
     "execution_count": 123,
     "metadata": {},
     "output_type": "execute_result"
    }
   ],
   "execution_count": 123
  }
 ],
 "metadata": {
  "kernelspec": {
   "display_name": "Python 3",
   "language": "python",
   "name": "python3"
  },
  "language_info": {
   "codemirror_mode": {
    "name": "ipython",
    "version": 2
   },
   "file_extension": ".py",
   "mimetype": "text/x-python",
   "name": "python",
   "nbconvert_exporter": "python",
   "pygments_lexer": "ipython2",
   "version": "2.7.6"
  }
 },
 "nbformat": 4,
 "nbformat_minor": 5
}

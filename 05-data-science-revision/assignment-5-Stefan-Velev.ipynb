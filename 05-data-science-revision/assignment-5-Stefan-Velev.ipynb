{
 "cells": [
  {
   "metadata": {},
   "cell_type": "markdown",
   "source": [
    "## Assignment 5: Data Science Revision\n",
    "### Stefan Dimitrov Velev, 0MI3400521, Big Data Technologies\n",
    "### Faculty of Mathematics and Informatics, Sofia University"
   ],
   "id": "8945c1b825d94cec"
  },
  {
   "metadata": {},
   "cell_type": "markdown",
   "source": "### Task 1: In this question you will work with data sets from *Our World In Data* and Python to produce thoughtful analyses and interesting visualisations",
   "id": "ba9a4af59a8cb18b"
  },
  {
   "metadata": {},
   "cell_type": "markdown",
   "source": "#### 1. Import required Python packages",
   "id": "a429eb98799048d9"
  },
  {
   "metadata": {
    "ExecuteTime": {
     "end_time": "2024-12-26T08:37:44.698429Z",
     "start_time": "2024-12-26T08:37:41.358605Z"
    }
   },
   "cell_type": "code",
   "source": [
    "import pandas as pd\n",
    "import numpy as np\n",
    "import matplotlib.pyplot as plt"
   ],
   "id": "6f58ee9fc22894a5",
   "outputs": [],
   "execution_count": 1
  },
  {
   "metadata": {},
   "cell_type": "markdown",
   "source": "#### 2. Read the CSV files:",
   "id": "c4832e123f5c12ec"
  },
  {
   "metadata": {},
   "cell_type": "markdown",
   "source": [
    "**Self-reported life satisfaction**\n",
    "\n",
    "*Data sources: World Happiness Report (2012-2024); Wellbeing Research Centre (2024); Population based on various sources (2023)*\n",
    "\n",
    "https://ourworldindata.org/grapher/happiness-cantril-ladder?time=latest"
   ],
   "id": "7592cf96be809b63"
  },
  {
   "metadata": {
    "ExecuteTime": {
     "end_time": "2024-12-26T08:37:44.733790Z",
     "start_time": "2024-12-26T08:37:44.716450Z"
    }
   },
   "cell_type": "code",
   "source": "df_life_satisfaction = pd.read_csv('./data/happiness-cantril-ladder.csv')",
   "id": "7e1488ada33a89f",
   "outputs": [],
   "execution_count": 2
  },
  {
   "metadata": {
    "ExecuteTime": {
     "end_time": "2024-12-26T08:37:44.770155Z",
     "start_time": "2024-12-26T08:37:44.741809Z"
    }
   },
   "cell_type": "code",
   "source": "df_life_satisfaction.head()",
   "id": "9ce2fddce6d05438",
   "outputs": [
    {
     "data": {
      "text/plain": [
       "        Entity Code  Year  Cantril ladder score\n",
       "0  Afghanistan  AFG  2011               4.25835\n",
       "1  Afghanistan  AFG  2014               3.57500\n",
       "2  Afghanistan  AFG  2015               3.36000\n",
       "3  Afghanistan  AFG  2016               3.79400\n",
       "4  Afghanistan  AFG  2017               3.63150"
      ],
      "text/html": [
       "<div>\n",
       "<style scoped>\n",
       "    .dataframe tbody tr th:only-of-type {\n",
       "        vertical-align: middle;\n",
       "    }\n",
       "\n",
       "    .dataframe tbody tr th {\n",
       "        vertical-align: top;\n",
       "    }\n",
       "\n",
       "    .dataframe thead th {\n",
       "        text-align: right;\n",
       "    }\n",
       "</style>\n",
       "<table border=\"1\" class=\"dataframe\">\n",
       "  <thead>\n",
       "    <tr style=\"text-align: right;\">\n",
       "      <th></th>\n",
       "      <th>Entity</th>\n",
       "      <th>Code</th>\n",
       "      <th>Year</th>\n",
       "      <th>Cantril ladder score</th>\n",
       "    </tr>\n",
       "  </thead>\n",
       "  <tbody>\n",
       "    <tr>\n",
       "      <th>0</th>\n",
       "      <td>Afghanistan</td>\n",
       "      <td>AFG</td>\n",
       "      <td>2011</td>\n",
       "      <td>4.25835</td>\n",
       "    </tr>\n",
       "    <tr>\n",
       "      <th>1</th>\n",
       "      <td>Afghanistan</td>\n",
       "      <td>AFG</td>\n",
       "      <td>2014</td>\n",
       "      <td>3.57500</td>\n",
       "    </tr>\n",
       "    <tr>\n",
       "      <th>2</th>\n",
       "      <td>Afghanistan</td>\n",
       "      <td>AFG</td>\n",
       "      <td>2015</td>\n",
       "      <td>3.36000</td>\n",
       "    </tr>\n",
       "    <tr>\n",
       "      <th>3</th>\n",
       "      <td>Afghanistan</td>\n",
       "      <td>AFG</td>\n",
       "      <td>2016</td>\n",
       "      <td>3.79400</td>\n",
       "    </tr>\n",
       "    <tr>\n",
       "      <th>4</th>\n",
       "      <td>Afghanistan</td>\n",
       "      <td>AFG</td>\n",
       "      <td>2017</td>\n",
       "      <td>3.63150</td>\n",
       "    </tr>\n",
       "  </tbody>\n",
       "</table>\n",
       "</div>"
      ]
     },
     "execution_count": 3,
     "metadata": {},
     "output_type": "execute_result"
    }
   ],
   "execution_count": 3
  },
  {
   "metadata": {
    "ExecuteTime": {
     "end_time": "2024-12-26T08:37:45.528052Z",
     "start_time": "2024-12-26T08:37:45.519367Z"
    }
   },
   "cell_type": "code",
   "source": "print(\"The number of rows in the life satisfaction data frame is:\", len(df_life_satisfaction))",
   "id": "8c63f25c6877a959",
   "outputs": [
    {
     "name": "stdout",
     "output_type": "stream",
     "text": [
      "The number of rows in the life satisfaction data frame is: 1787\n"
     ]
    }
   ],
   "execution_count": 4
  },
  {
   "metadata": {},
   "cell_type": "markdown",
   "source": [
    "**Share in extreme poverty vs. life expectancy**\n",
    "\n",
    "*Data sources: UN, World Population Prospects (2024); World Bank Poverty and Inequality Platform (2024); HYDE (2023); Gapminder - Population v7 (2022); Gapminder - Systema Globalis (2022)*\n",
    "\n",
    "https://ourworldindata.org/grapher/extreme-poverty-headcount-ratio-vs-life-expectancy-at-birth"
   ],
   "id": "6865a82515bc7304"
  },
  {
   "metadata": {
    "ExecuteTime": {
     "end_time": "2024-12-26T08:37:45.669099Z",
     "start_time": "2024-12-26T08:37:45.598351Z"
    }
   },
   "cell_type": "code",
   "source": "df_extreme_poverty_life_expectancy = pd.read_csv('./data/extreme-poverty-headcount-ratio-vs-life-expectancy-at-birth.csv')",
   "id": "f69e12fa2b5104ad",
   "outputs": [],
   "execution_count": 5
  },
  {
   "metadata": {
    "ExecuteTime": {
     "end_time": "2024-12-26T08:37:45.776656Z",
     "start_time": "2024-12-26T08:37:45.756940Z"
    }
   },
   "cell_type": "code",
   "source": "df_extreme_poverty_life_expectancy.head()",
   "id": "1a733a09f34004f1",
   "outputs": [
    {
     "data": {
      "text/plain": [
       "        Entity Code  Year  \\\n",
       "0  Afghanistan  AFG  1950   \n",
       "1  Afghanistan  AFG  1951   \n",
       "2  Afghanistan  AFG  1952   \n",
       "3  Afghanistan  AFG  1953   \n",
       "4  Afghanistan  AFG  1954   \n",
       "\n",
       "   Life expectancy - Sex: all - Age: 0 - Variant: estimates  \\\n",
       "0                                             28.156          \n",
       "1                                             28.584          \n",
       "2                                             29.014          \n",
       "3                                             29.452          \n",
       "4                                             29.698          \n",
       "\n",
       "   $2.15 a day - Share of population in poverty 990305-annotations  \\\n",
       "0                                           NaN                NaN   \n",
       "1                                           NaN                NaN   \n",
       "2                                           NaN                NaN   \n",
       "3                                           NaN                NaN   \n",
       "4                                           NaN                NaN   \n",
       "\n",
       "   Population (historical) World regions according to OWID  \n",
       "0                7776182.0                             NaN  \n",
       "1                7879343.0                             NaN  \n",
       "2                7987783.0                             NaN  \n",
       "3                8096703.0                             NaN  \n",
       "4                8207953.0                             NaN  "
      ],
      "text/html": [
       "<div>\n",
       "<style scoped>\n",
       "    .dataframe tbody tr th:only-of-type {\n",
       "        vertical-align: middle;\n",
       "    }\n",
       "\n",
       "    .dataframe tbody tr th {\n",
       "        vertical-align: top;\n",
       "    }\n",
       "\n",
       "    .dataframe thead th {\n",
       "        text-align: right;\n",
       "    }\n",
       "</style>\n",
       "<table border=\"1\" class=\"dataframe\">\n",
       "  <thead>\n",
       "    <tr style=\"text-align: right;\">\n",
       "      <th></th>\n",
       "      <th>Entity</th>\n",
       "      <th>Code</th>\n",
       "      <th>Year</th>\n",
       "      <th>Life expectancy - Sex: all - Age: 0 - Variant: estimates</th>\n",
       "      <th>$2.15 a day - Share of population in poverty</th>\n",
       "      <th>990305-annotations</th>\n",
       "      <th>Population (historical)</th>\n",
       "      <th>World regions according to OWID</th>\n",
       "    </tr>\n",
       "  </thead>\n",
       "  <tbody>\n",
       "    <tr>\n",
       "      <th>0</th>\n",
       "      <td>Afghanistan</td>\n",
       "      <td>AFG</td>\n",
       "      <td>1950</td>\n",
       "      <td>28.156</td>\n",
       "      <td>NaN</td>\n",
       "      <td>NaN</td>\n",
       "      <td>7776182.0</td>\n",
       "      <td>NaN</td>\n",
       "    </tr>\n",
       "    <tr>\n",
       "      <th>1</th>\n",
       "      <td>Afghanistan</td>\n",
       "      <td>AFG</td>\n",
       "      <td>1951</td>\n",
       "      <td>28.584</td>\n",
       "      <td>NaN</td>\n",
       "      <td>NaN</td>\n",
       "      <td>7879343.0</td>\n",
       "      <td>NaN</td>\n",
       "    </tr>\n",
       "    <tr>\n",
       "      <th>2</th>\n",
       "      <td>Afghanistan</td>\n",
       "      <td>AFG</td>\n",
       "      <td>1952</td>\n",
       "      <td>29.014</td>\n",
       "      <td>NaN</td>\n",
       "      <td>NaN</td>\n",
       "      <td>7987783.0</td>\n",
       "      <td>NaN</td>\n",
       "    </tr>\n",
       "    <tr>\n",
       "      <th>3</th>\n",
       "      <td>Afghanistan</td>\n",
       "      <td>AFG</td>\n",
       "      <td>1953</td>\n",
       "      <td>29.452</td>\n",
       "      <td>NaN</td>\n",
       "      <td>NaN</td>\n",
       "      <td>8096703.0</td>\n",
       "      <td>NaN</td>\n",
       "    </tr>\n",
       "    <tr>\n",
       "      <th>4</th>\n",
       "      <td>Afghanistan</td>\n",
       "      <td>AFG</td>\n",
       "      <td>1954</td>\n",
       "      <td>29.698</td>\n",
       "      <td>NaN</td>\n",
       "      <td>NaN</td>\n",
       "      <td>8207953.0</td>\n",
       "      <td>NaN</td>\n",
       "    </tr>\n",
       "  </tbody>\n",
       "</table>\n",
       "</div>"
      ]
     },
     "execution_count": 6,
     "metadata": {},
     "output_type": "execute_result"
    }
   ],
   "execution_count": 6
  },
  {
   "metadata": {
    "ExecuteTime": {
     "end_time": "2024-12-26T08:37:45.884760Z",
     "start_time": "2024-12-26T08:37:45.874433Z"
    }
   },
   "cell_type": "code",
   "source": "print(\"The number of rows in the extreme poverty vs. life expectancy data frame is:\", len(df_extreme_poverty_life_expectancy))",
   "id": "2f94abbe8681e750",
   "outputs": [
    {
     "name": "stdout",
     "output_type": "stream",
     "text": [
      "The number of rows in the extreme poverty vs. life expectancy data frame is: 60100\n"
     ]
    }
   ],
   "execution_count": 7
  },
  {
   "metadata": {},
   "cell_type": "markdown",
   "source": [
    "**Political corruption index**\n",
    "\n",
    "*Data source: V-Dem (2024)*\n",
    "\n",
    "https://ourworldindata.org/grapher/political-corruption-index"
   ],
   "id": "cba58da9d458f516"
  },
  {
   "metadata": {
    "ExecuteTime": {
     "end_time": "2024-12-26T08:37:46.143335Z",
     "start_time": "2024-12-26T08:37:46.105365Z"
    }
   },
   "cell_type": "code",
   "source": "df_political_corruption = pd.read_csv('./data/political-corruption-index.csv')",
   "id": "404bb9f99a22aa05",
   "outputs": [],
   "execution_count": 8
  },
  {
   "metadata": {
    "ExecuteTime": {
     "end_time": "2024-12-26T08:37:46.240320Z",
     "start_time": "2024-12-26T08:37:46.221356Z"
    }
   },
   "cell_type": "code",
   "source": "df_political_corruption.head()",
   "id": "3353a631a02646f1",
   "outputs": [
    {
     "data": {
      "text/plain": [
       "        Entity Code  Year  \\\n",
       "0  Afghanistan  AFG  1789   \n",
       "1  Afghanistan  AFG  1790   \n",
       "2  Afghanistan  AFG  1791   \n",
       "3  Afghanistan  AFG  1792   \n",
       "4  Afghanistan  AFG  1793   \n",
       "\n",
       "   Political corruption index (best estimate, aggregate: average)  \n",
       "0                                              0.438               \n",
       "1                                              0.438               \n",
       "2                                              0.438               \n",
       "3                                              0.438               \n",
       "4                                              0.438               "
      ],
      "text/html": [
       "<div>\n",
       "<style scoped>\n",
       "    .dataframe tbody tr th:only-of-type {\n",
       "        vertical-align: middle;\n",
       "    }\n",
       "\n",
       "    .dataframe tbody tr th {\n",
       "        vertical-align: top;\n",
       "    }\n",
       "\n",
       "    .dataframe thead th {\n",
       "        text-align: right;\n",
       "    }\n",
       "</style>\n",
       "<table border=\"1\" class=\"dataframe\">\n",
       "  <thead>\n",
       "    <tr style=\"text-align: right;\">\n",
       "      <th></th>\n",
       "      <th>Entity</th>\n",
       "      <th>Code</th>\n",
       "      <th>Year</th>\n",
       "      <th>Political corruption index (best estimate, aggregate: average)</th>\n",
       "    </tr>\n",
       "  </thead>\n",
       "  <tbody>\n",
       "    <tr>\n",
       "      <th>0</th>\n",
       "      <td>Afghanistan</td>\n",
       "      <td>AFG</td>\n",
       "      <td>1789</td>\n",
       "      <td>0.438</td>\n",
       "    </tr>\n",
       "    <tr>\n",
       "      <th>1</th>\n",
       "      <td>Afghanistan</td>\n",
       "      <td>AFG</td>\n",
       "      <td>1790</td>\n",
       "      <td>0.438</td>\n",
       "    </tr>\n",
       "    <tr>\n",
       "      <th>2</th>\n",
       "      <td>Afghanistan</td>\n",
       "      <td>AFG</td>\n",
       "      <td>1791</td>\n",
       "      <td>0.438</td>\n",
       "    </tr>\n",
       "    <tr>\n",
       "      <th>3</th>\n",
       "      <td>Afghanistan</td>\n",
       "      <td>AFG</td>\n",
       "      <td>1792</td>\n",
       "      <td>0.438</td>\n",
       "    </tr>\n",
       "    <tr>\n",
       "      <th>4</th>\n",
       "      <td>Afghanistan</td>\n",
       "      <td>AFG</td>\n",
       "      <td>1793</td>\n",
       "      <td>0.438</td>\n",
       "    </tr>\n",
       "  </tbody>\n",
       "</table>\n",
       "</div>"
      ]
     },
     "execution_count": 9,
     "metadata": {},
     "output_type": "execute_result"
    }
   ],
   "execution_count": 9
  },
  {
   "metadata": {
    "ExecuteTime": {
     "end_time": "2024-12-26T08:37:46.413185Z",
     "start_time": "2024-12-26T08:37:46.404573Z"
    }
   },
   "cell_type": "code",
   "source": "print(\"The number of rows in the political corruption data frame is:\", len(df_political_corruption))",
   "id": "f92aaa9391baa3df",
   "outputs": [
    {
     "name": "stdout",
     "output_type": "stream",
     "text": [
      "The number of rows in the political corruption data frame is: 33090\n"
     ]
    }
   ],
   "execution_count": 10
  },
  {
   "metadata": {},
   "cell_type": "markdown",
   "source": "#### 3. Data  Cleaning:",
   "id": "fffe26bf5d6d70db"
  }
 ],
 "metadata": {
  "kernelspec": {
   "display_name": "Python 3",
   "language": "python",
   "name": "python3"
  },
  "language_info": {
   "codemirror_mode": {
    "name": "ipython",
    "version": 2
   },
   "file_extension": ".py",
   "mimetype": "text/x-python",
   "name": "python",
   "nbconvert_exporter": "python",
   "pygments_lexer": "ipython2",
   "version": "2.7.6"
  }
 },
 "nbformat": 4,
 "nbformat_minor": 5
}
